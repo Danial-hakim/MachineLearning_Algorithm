{
 "cells": [
  {
   "cell_type": "raw",
   "id": "327916d8-f346-49a1-9e01-422131fb5b20",
   "metadata": {},
   "source": [
    "Muhammad Danial Hakim Nor Azman C00253517"
   ]
  },
  {
   "cell_type": "markdown",
   "id": "d739cbb0-2818-4a14-a38c-1ad428c2f6c4",
   "metadata": {},
   "source": [
    "| Changes | Time | Difficulty | \n",
    "|---------|------|------------|\n",
    "|Trying to create naive bayes from scratch but was stuck| 1 hour| 8|\n",
    "|Cross validation for multinomial naive bayes| 20 mins | 2|\n",
    "|Trying different training split to improve accuracy. Training split test , left is training and right is test accuracy , 80% = 70% , 90% = 69% , 95% = 80% | 30 mins |3|\n",
    "|Ignoring stop words like 'The' , 'And' with 80% training and get 76% accuracy| 30 mins | 3 |\n",
    "|Tried out usiong less training , achieved 82% accuracy but confusion matrix shows that the model were not able to detect positives or good mail | 30 mins | 3|\n",
    "|Cross validation for Complement naive bayes| 20 mins | 2|\n",
    "|Switch from MultinomialNB to ComplementNB and get 82% accuracy| 45 mins | 5 |\n",
    "|Change training split to 85% training and get 84% accuracy with alpha 0.3|15 mins|2|\n",
    "|Trying new dataset on GaussianNB about wine quality where score > 6.5 is good| 30 mins|3|\n",
    "|Changing the training split with 90% training and get accuracy of 89%| 20 mins| 2|\n",
    "|Confusion matrix show the model sometimes predict bad wine as good wine so try out complementNB with cross validation but get lower accuracy| 40 mins| 4|"
   ]
  },
  {
   "cell_type": "code",
   "execution_count": 188,
   "id": "32c06e18-a644-4385-9ff8-49123f998697",
   "metadata": {},
   "outputs": [],
   "source": [
    "import pandas as pd\n",
    "from sklearn.feature_extraction.text import TfidfVectorizer\n",
    "from sklearn.naive_bayes import MultinomialNB,GaussianNB,ComplementNB\n",
    "from sklearn.pipeline import make_pipeline\n",
    "from sklearn.metrics import accuracy_score, classification_report, confusion_matrix\n",
    "from sklearn.model_selection import train_test_split\n",
    "import seaborn as sns\n",
    "import matplotlib.pyplot as plt"
   ]
  },
  {
   "cell_type": "raw",
   "id": "543a5505-3282-4904-b425-dfb70cdb0fc6",
   "metadata": {},
   "source": [
    "#load data\n",
    "file_path = 'email_spam.csv'\n",
    "df = pd.read_csv(file_path)\n",
    "\n",
    "df['combined_text'] = df['title'] + ' ' + df['text']\n",
    "\n",
    "X = df['combined_text']\n",
    "y = df['type']\n",
    "\n",
    "#splitting the data into training and test\n",
    "X_train ,X_test ,y_train ,y_test = train_test_split(X, y, test_size=0.2,random_state=42)\n",
    "\n",
    "pipeline = make_pipeline(TfidfVectorizer(stop_words='english'), MultinomialNB(alpha=0.3))\n",
    "\n",
    "pipeline.fit(X_train,y_train)\n",
    "\n",
    "prediction = pipeline.predict(X_test)\n",
    "\n",
    "accuracy = accuracy_score(y_test , prediction)\n",
    "print(f'Accuracy: {accuracy:.4f}')\n",
    "\n",
    "print(classification_report(y_test,prediction))"
   ]
  },
  {
   "cell_type": "code",
   "execution_count": 189,
   "id": "67432f32-34ba-440c-affc-cd592e7fa40b",
   "metadata": {},
   "outputs": [
    {
     "name": "stdout",
     "output_type": "stream",
     "text": [
      "Accuracy: 0.8462\n",
      "              precision    recall  f1-score   support\n",
      "\n",
      "    not spam       0.80      1.00      0.89         8\n",
      "        spam       1.00      0.60      0.75         5\n",
      "\n",
      "    accuracy                           0.85        13\n",
      "   macro avg       0.90      0.80      0.82        13\n",
      "weighted avg       0.88      0.85      0.84        13\n",
      "\n"
     ]
    }
   ],
   "source": [
    "#load data\n",
    "file_path = 'email_spam.csv'\n",
    "df = pd.read_csv(file_path)\n",
    "\n",
    "df['combined_text'] = df['title'] + ' ' + df['text']\n",
    "\n",
    "X = df['combined_text']\n",
    "y = df['type']\n",
    "\n",
    "#splitting the data into training and test\n",
    "X_train ,X_test ,y_train ,y_test = train_test_split(X, y, test_size=0.15,random_state=42)\n",
    "\n",
    "tfidf = TfidfVectorizer(stop_words='english')\n",
    "X_train_tfidf = tfidf.fit_transform(X_train)\n",
    "X_test_tfidf = tfidf.transform(X_test)\n",
    "\n",
    "model = ComplementNB(alpha=0.3)\n",
    "\n",
    "model.fit(X_train_tfidf,y_train)\n",
    "\n",
    "predictions = model.predict(X_test_tfidf)\n",
    "\n",
    "accuracy = accuracy_score(y_test , predictions)\n",
    "print(f'Accuracy: {accuracy:.4f}')\n",
    "\n",
    "print(classification_report(y_test,predictions))"
   ]
  },
  {
   "cell_type": "code",
   "execution_count": 190,
   "id": "cb5c885f-bfe9-44d0-b495-d794177d6541",
   "metadata": {},
   "outputs": [
    {
     "name": "stdout",
     "output_type": "stream",
     "text": [
      "Cross-validation accuracy: 0.7619 ± 0.1436\n"
     ]
    }
   ],
   "source": [
    "model = ComplementNB()\n",
    "scores = cross_val_score(model, X_train_tfidf, y_train, cv=5, scoring=\"accuracy\")\n",
    "print(f\"Cross-validation accuracy: {scores.mean():.4f} ± {scores.std():.4f}\")"
   ]
  },
  {
   "cell_type": "code",
   "execution_count": 191,
   "id": "020752fe-ce50-4504-83a1-03ce584da5b6",
   "metadata": {},
   "outputs": [
    {
     "data": {
      "image/png": "[encoded data removed]",
      "text/plain": [
       "<Figure size 600x400 with 2 Axes>"
      ]
     },
     "metadata": {},
     "output_type": "display_data"
    }
   ],
   "source": [
    "cm = confusion_matrix(y_test,predictions)\n",
    "\n",
    "plt.figure(figsize=(6,4))\n",
    "sns.heatmap(cm, annot=True, fmt='d', cmap='Blues', xticklabels=['Negative', 'Positive'], yticklabels=['Negative', 'Positive'])\n",
    "plt.xlabel('Predicted')\n",
    "plt.ylabel('Actual')\n",
    "plt.title('Confusion Matrix')\n",
    "plt.show()"
   ]
  },
  {
   "cell_type": "code",
   "execution_count": 192,
   "id": "f1e4a7a4-5226-4760-b659-b96472425e4a",
   "metadata": {},
   "outputs": [],
   "source": [
    "#load data\n",
    "file_path = 'wine_data.csv'\n",
    "df = pd.read_csv(file_path)"
   ]
  },
  {
   "cell_type": "code",
   "execution_count": 193,
   "id": "b57acfc1-756a-47ca-a8a1-e3bb0a006ce3",
   "metadata": {},
   "outputs": [
    {
     "name": "stdout",
     "output_type": "stream",
     "text": [
      "<class 'pandas.core.frame.DataFrame'>\n",
      "RangeIndex: 1599 entries, 0 to 1598\n",
      "Data columns (total 12 columns):\n",
      " #   Column                Non-Null Count  Dtype  \n",
      "---  ------                --------------  -----  \n",
      " 0   fixed acidity         1599 non-null   float64\n",
      " 1   volatile acidity      1599 non-null   float64\n",
      " 2   citric acid           1599 non-null   float64\n",
      " 3   residual sugar        1599 non-null   float64\n",
      " 4   chlorides             1599 non-null   float64\n",
      " 5   free sulfur dioxide   1599 non-null   float64\n",
      " 6   total sulfur dioxide  1599 non-null   float64\n",
      " 7   density               1599 non-null   float64\n",
      " 8   pH                    1599 non-null   float64\n",
      " 9   sulphates             1599 non-null   float64\n",
      " 10  alcohol               1599 non-null   float64\n",
      " 11  quality               1599 non-null   int64  \n",
      "dtypes: float64(11), int64(1)\n",
      "memory usage: 150.0 KB\n"
     ]
    }
   ],
   "source": [
    "df.info()"
   ]
  },
  {
   "cell_type": "code",
   "execution_count": 209,
   "id": "b8697405-f61b-448f-b616-04ef9fdb3d2b",
   "metadata": {},
   "outputs": [
    {
     "name": "stdout",
     "output_type": "stream",
     "text": [
      "Accuracy: 0.8938\n",
      "              precision    recall  f1-score   support\n",
      "\n",
      "           0       0.97      0.91      0.94       138\n",
      "           1       0.58      0.82      0.68        22\n",
      "\n",
      "    accuracy                           0.89       160\n",
      "   macro avg       0.77      0.86      0.81       160\n",
      "weighted avg       0.92      0.89      0.90       160\n",
      "\n"
     ]
    }
   ],
   "source": [
    "X = df.iloc[:, :-1]  # exclude quality\n",
    "y = (df[\"quality\"] > 6.5).astype(int) # if score above 6.5 , its good wine and label with 1 , else 0\n",
    "\n",
    "#splitting the data into training and test\n",
    "X_train ,X_test ,y_train ,y_test = train_test_split(X, y, test_size=0.1,random_state=42)\n",
    "\n",
    "model = GaussianNB()\n",
    "\n",
    "model.fit(X_train, y_train)\n",
    "\n",
    "prediction = model.predict(X_test)\n",
    "\n",
    "accuracy = accuracy_score(y_test , prediction)\n",
    "print(f'Accuracy: {accuracy:.4f}')\n",
    "\n",
    "print(classification_report(y_test,prediction))"
   ]
  },
  {
   "cell_type": "code",
   "execution_count": 211,
   "id": "c1a652d8-583d-4fe1-88a1-17cd2eed3ab1",
   "metadata": {},
   "outputs": [
    {
     "data": {
      "image/png": "[encoded data removed]",
      "text/plain": [
       "<Figure size 600x400 with 2 Axes>"
      ]
     },
     "metadata": {},
     "output_type": "display_data"
    }
   ],
   "source": [
    "cm = confusion_matrix(y_test,prediction)\n",
    "\n",
    "plt.figure(figsize=(6,4))\n",
    "sns.heatmap(cm, annot=True, fmt='d', cmap='Blues', xticklabels=['Negative', 'Positive'], yticklabels=['Negative', 'Positive'])\n",
    "plt.xlabel('Predicted')\n",
    "plt.ylabel('Actual')\n",
    "plt.title('Confusion Matrix')\n",
    "plt.show()"
   ]
  },
  {
   "cell_type": "code",
   "execution_count": 213,
   "id": "ad576453-2258-4e2c-bb90-595cf117fc11",
   "metadata": {},
   "outputs": [
    {
     "name": "stdout",
     "output_type": "stream",
     "text": [
      "['BernoulliNB', 'CategoricalNB', 'ComplementNB', 'GaussianNB', 'MultinomialNB', '_BaseDiscreteNB', '_BaseNB']\n"
     ]
    }
   ],
   "source": [
    "from sklearn import naive_bayes\n",
    "import inspect\n",
    "\n",
    "nb_classes = [cls[0] for cls in inspect.getmembers(naive_bayes, inspect.isclass) if 'NB' in cls[0]]\n",
    "print(nb_classes)\n"
   ]
  },
  {
   "cell_type": "code",
   "execution_count": 215,
   "id": "f3caa332-4027-488d-ba7b-96d41b034835",
   "metadata": {},
   "outputs": [
    {
     "name": "stdout",
     "output_type": "stream",
     "text": [
      "Cross-validation accuracy: 0.8443 ± 0.0167\n"
     ]
    }
   ],
   "source": [
    "model = GaussianNB()\n",
    "scores = cross_val_score(model, X_train, y_train, cv=5, scoring=\"accuracy\")\n",
    "print(f\"Cross-validation accuracy: {scores.mean():.4f} ± {scores.std():.4f}\")"
   ]
  }
 ],
 "metadata": {
  "kernelspec": {
   "display_name": "Python 3 (ipykernel)",
   "language": "python",
   "name": "python3"
  },
  "language_info": {
   "codemirror_mode": {
    "name": "ipython",
    "version": 3
   },
   "file_extension": ".py",
   "mimetype": "text/x-python",
   "name": "python",
   "nbconvert_exporter": "python",
   "pygments_lexer": "ipython3",
   "version": "3.12.4"
  }
 },
 "nbformat": 4,
 "nbformat_minor": 5
}
