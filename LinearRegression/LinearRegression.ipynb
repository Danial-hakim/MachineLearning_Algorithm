{
 "cells": [
  {
   "cell_type": "raw",
   "id": "3f009ff0-c024-4203-9bc0-479fd17c363f",
   "metadata": {},
   "source": [
    "Muhammad Danial Hakim Nor Azman C00253517"
   ]
  },
  {
   "cell_type": "markdown",
   "id": "42cfb99e-4e7c-4fd1-aab8-932f9601fa26",
   "metadata": {},
   "source": [
    "| Changes | Time | Difficulty | \n",
    "|---------|------|------------|\n",
    "|Tryout several training split and 75% training have the lowest error with 0.38|30 mins|3|\n",
    "|Switch to other versions like lasso and ridge but get lower accuracy. Switched back to base version|40 mins|4|\n",
    "|Try predicting house price using house data but the model were not able to perform due to location of house which is not in numerical value|50 mins|5|"
   ]
  },
  {
   "cell_type": "code",
   "execution_count": 22,
   "id": "eddf9ee1-8196-4b09-80db-be424de65334",
   "metadata": {},
   "outputs": [],
   "source": [
    "import pandas as pd\n",
    "import numpy as np\n",
    "from sklearn.model_selection import train_test_split\n",
    "from sklearn.linear_model import LinearRegression, Ridge, Lasso, ElasticNet\n",
    "from sklearn.metrics import mean_squared_error, r2_score,accuracy_score"
   ]
  },
  {
   "cell_type": "code",
   "execution_count": 24,
   "id": "a882ba05-4c18-4ab2-8b57-7debba4a7214",
   "metadata": {},
   "outputs": [],
   "source": [
    "df = pd.read_csv('wine_data.csv')"
   ]
  },
  {
   "cell_type": "code",
   "execution_count": 44,
   "id": "c4b71e22-7925-474b-94fa-5801a81067e5",
   "metadata": {},
   "outputs": [
    {
     "name": "stdout",
     "output_type": "stream",
     "text": [
      "Mean Squared Error: 0.38830173868689216\n",
      "R² Score: 0.3722831200818111\n"
     ]
    }
   ],
   "source": [
    "X = df.iloc[:, :-1]  # exclude quality\n",
    "y = df[\"quality\"]\n",
    "\n",
    "# Split dataset\n",
    "X_train, X_test, y_train, y_test = train_test_split(X, y, test_size=0.25, random_state=42)\n",
    "\n",
    "model = LinearRegression()\n",
    "\n",
    "model.fit(X_train, y_train)\n",
    "\n",
    "predictions = model.predict(X_test)\n",
    "\n",
    "mse = mean_squared_error(y_test, predictions)\n",
    "r2 = r2_score(y_test, predictions)\n",
    "print(f'Mean Squared Error: {mse}')\n",
    "print(f'R² Score: {r2}')"
   ]
  }
 ],
 "metadata": {
  "kernelspec": {
   "display_name": "Python 3 (ipykernel)",
   "language": "python",
   "name": "python3"
  },
  "language_info": {
   "codemirror_mode": {
    "name": "ipython",
    "version": 3
   },
   "file_extension": ".py",
   "mimetype": "text/x-python",
   "name": "python",
   "nbconvert_exporter": "python",
   "pygments_lexer": "ipython3",
   "version": "3.12.4"
  }
 },
 "nbformat": 4,
 "nbformat_minor": 5
}
