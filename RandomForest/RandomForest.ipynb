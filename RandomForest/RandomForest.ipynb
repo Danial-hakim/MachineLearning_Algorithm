{
 "cells": [
  {
   "cell_type": "raw",
   "id": "a0c54abe-294c-47da-9cc2-b81b52e44d83",
   "metadata": {},
   "source": [
    "Muhammad Danial Hakim Nor Azman C00253517"
   ]
  },
  {
   "cell_type": "markdown",
   "id": "76e05195-b2f9-438d-bdcc-4aeaefff190e",
   "metadata": {},
   "source": [
    "| Changes | Time | Difficulty | \n",
    "|---------|------|------------|\n",
    "|Using randomforest with number of estimators of 100 and training split of 80% and get an accuracy of 90%|45 mins|5|\n",
    "|Confusion Matrix shows that the model sometimes predict good wine as bad wine|10 mins|1|\n",
    "|Try several different training split , depth of trees and number of estimators. The accuracy move between 889% and 92%The best accuracy is when the training split is 75% training with 92% accuracy| 1 hour 30 mins.|8|\n",
    "|Switch to extra tree classifier and with the same parameters and get an accuracy of 92%| 20 mins |2|\n",
    "|Try changing the number of estimators and training split and was staying around 89% and 92% accuracy| 40 mins |4|"
   ]
  },
  {
   "cell_type": "code",
   "execution_count": 1,
   "id": "5082b966-8005-4e17-b519-aaf1e5cba94b",
   "metadata": {},
   "outputs": [],
   "source": [
    "import time\n",
    "import pandas as pd\n",
    "from sklearn.model_selection import train_test_split, cross_val_score\n",
    "from sklearn.ensemble import RandomForestClassifier\n",
    "from sklearn.ensemble import ExtraTreesClassifier\n",
    "from sklearn.metrics import accuracy_score, classification_report, confusion_matrix\n",
    "import seaborn as sns\n",
    "import matplotlib.pyplot as plt"
   ]
  },
  {
   "cell_type": "code",
   "execution_count": 2,
   "id": "c7e8749c-50d2-4a90-83f5-289185b1e273",
   "metadata": {},
   "outputs": [
    {
     "name": "stdout",
     "output_type": "stream",
     "text": [
      "Accuracy: 0.92\n",
      "Classification Report:\n",
      "               precision    recall  f1-score   support\n",
      "\n",
      "           0       0.93      0.97      0.95       347\n",
      "           1       0.76      0.53      0.62        53\n",
      "\n",
      "    accuracy                           0.92       400\n",
      "   macro avg       0.84      0.75      0.79       400\n",
      "weighted avg       0.91      0.92      0.91       400\n",
      "\n",
      "training time : 0.1346 seconds\n"
     ]
    }
   ],
   "source": [
    "df = pd.read_csv(\"wine_data.csv\") \n",
    "\n",
    "X = df.iloc[:, :-1]  # exclude quality\n",
    "y = (df[\"quality\"] > 6.5).astype(int) # if score above 6.5 , its good wine and label with 1 , else 0\n",
    "\n",
    "X_train, X_test, y_train, y_test = train_test_split(X, y, test_size=0.25, random_state=42)\n",
    "\n",
    "model = RandomForestClassifier(n_estimators=100, random_state=42)\n",
    "\n",
    "training_timer_start = time.time()\n",
    "model.fit(X_train, y_train)\n",
    "training_timer_stop = time.time()\n",
    "\n",
    "predict_timer_start = time.time()\n",
    "predictions = model.predict(X_test)\n",
    "predict_timer_start = time.time()\n",
    "\n",
    "accuracy = accuracy_score(y_test, predictions)\n",
    "print(f\"Accuracy: {accuracy:.2f}\")\n",
    "print(\"Classification Report:\\n\", classification_report(y_test, predictions))\n",
    "\n",
    "print(f'training time : { training_timer_stop - training_timer_start:.4f} seconds')"
   ]
  },
  {
   "cell_type": "code",
   "execution_count": 3,
   "id": "435fc7a8-d705-46e7-81c7-fb18c8a4793a",
   "metadata": {},
   "outputs": [
    {
     "name": "stdout",
     "output_type": "stream",
     "text": [
      "bad wine\n"
     ]
    }
   ],
   "source": [
    "import random\n",
    "#The features are based on the dataset\n",
    "wine_test = [\n",
    "    random.uniform(5, 15),  # fixed acidity\n",
    "    random.uniform(0.1, 1.5),  # volatile acidity\n",
    "    random.uniform(0.1, 1),  # citric acid\n",
    "    random.uniform(0.1, 12),  # residual sugar\n",
    "    random.uniform(0.01, 0.5),  # chlorides\n",
    "    random.uniform(1, 70),  # free sulfur dioxide\n",
    "    random.uniform(5, 250),  # total sulfur dioxide\n",
    "    random.uniform(0.99, 1),  # density\n",
    "    random.uniform(2.5, 4),  # pH\n",
    "    random.uniform(0.3, 2),  # sulphates\n",
    "    random.uniform(5, 15)   # alcohol\n",
    "]\n",
    "wine_test_df = pd.DataFrame([wine_test], columns=X.columns)\n",
    "\n",
    "result = model.predict(wine_test_df)\n",
    "print('bad wine' if result[0] < 1 else 'good wine')"
   ]
  },
  {
   "cell_type": "code",
   "execution_count": 4,
   "id": "7494a4e5-5120-411a-8145-472ef727aee5",
   "metadata": {},
   "outputs": [
    {
     "name": "stdout",
     "output_type": "stream",
     "text": [
      "Cross-validation accuracy: 0.9066 ± 0.0196\n"
     ]
    }
   ],
   "source": [
    "model = RandomForestClassifier(n_estimators=100, random_state=42)\n",
    "scores = cross_val_score(model, X_train, y_train, cv=5, scoring=\"accuracy\")\n",
    "print(f\"Cross-validation accuracy: {scores.mean():.4f} ± {scores.std():.4f}\")"
   ]
  },
  {
   "cell_type": "code",
   "execution_count": 5,
   "id": "daee784a-3e4b-48cc-89f7-d0a7603a4eb2",
   "metadata": {},
   "outputs": [
    {
     "data": {
      "image/png": "[encoded data removed]",
      "text/plain": [
       "<Figure size 600x400 with 2 Axes>"
      ]
     },
     "metadata": {},
     "output_type": "display_data"
    }
   ],
   "source": [
    "cm = confusion_matrix(y_test,predictions)\n",
    "\n",
    "plt.figure(figsize=(6,4))\n",
    "sns.heatmap(cm, annot=True, fmt='d', cmap='Blues', xticklabels=['Negative', 'Positive'], yticklabels=['Negative', 'Positive'])\n",
    "plt.xlabel('Predicted')\n",
    "plt.ylabel('Actual')\n",
    "plt.title('Confusion Matrix')\n",
    "plt.show()"
   ]
  },
  {
   "cell_type": "code",
   "execution_count": 6,
   "id": "c501a8cf-63f9-4431-8767-cf5863aadc6c",
   "metadata": {},
   "outputs": [
    {
     "name": "stdout",
     "output_type": "stream",
     "text": [
      "['AdaBoostClassifier', 'AdaBoostRegressor', 'BaggingClassifier', 'BaggingRegressor', 'BaseEnsemble', 'ExtraTreesClassifier', 'ExtraTreesRegressor', 'GradientBoostingClassifier', 'GradientBoostingRegressor', 'HistGradientBoostingClassifier', 'HistGradientBoostingRegressor', 'IsolationForest', 'RandomForestClassifier', 'RandomForestRegressor', 'RandomTreesEmbedding', 'StackingClassifier', 'StackingRegressor', 'VotingClassifier', 'VotingRegressor', '__all__', '__builtins__', '__cached__', '__doc__', '__file__', '__loader__', '__name__', '__package__', '__path__', '__spec__', '_bagging', '_base', '_forest', '_gb', '_gradient_boosting', '_hist_gradient_boosting', '_iforest', '_stacking', '_voting', '_weight_boosting']\n"
     ]
    }
   ],
   "source": [
    "import sklearn.ensemble\n",
    "print(dir(sklearn.ensemble))"
   ]
  },
  {
   "cell_type": "code",
   "execution_count": 7,
   "id": "dc01ca1e-c411-4ce7-96b3-28b7137e1833",
   "metadata": {},
   "outputs": [
    {
     "name": "stdout",
     "output_type": "stream",
     "text": [
      "{'bootstrap': True, 'ccp_alpha': 0.0, 'class_weight': None, 'criterion': 'gini', 'max_depth': None, 'max_features': 'sqrt', 'max_leaf_nodes': None, 'max_samples': None, 'min_impurity_decrease': 0.0, 'min_samples_leaf': 1, 'min_samples_split': 2, 'min_weight_fraction_leaf': 0.0, 'monotonic_cst': None, 'n_estimators': 100, 'n_jobs': None, 'oob_score': False, 'random_state': None, 'verbose': 0, 'warm_start': False}\n"
     ]
    }
   ],
   "source": [
    "rf_classifier = sklearn.ensemble.RandomForestClassifier()\n",
    "print(rf_classifier.get_params())"
   ]
  },
  {
   "cell_type": "code",
   "execution_count": 8,
   "id": "3ecaa10e-8ea6-48ae-9243-2e66e8b2f28f",
   "metadata": {},
   "outputs": [
    {
     "name": "stdout",
     "output_type": "stream",
     "text": [
      "Accuracy: 0.92\n",
      "Classification Report:\n",
      "               precision    recall  f1-score   support\n",
      "\n",
      "           0       0.93      0.98      0.95       347\n",
      "           1       0.78      0.53      0.63        53\n",
      "\n",
      "    accuracy                           0.92       400\n",
      "   macro avg       0.85      0.75      0.79       400\n",
      "weighted avg       0.91      0.92      0.91       400\n",
      "\n",
      "training time : 0.0761 seconds\n"
     ]
    }
   ],
   "source": [
    "df = pd.read_csv(\"wine_data.csv\") \n",
    "\n",
    "# Define features and target\n",
    "X = df.iloc[:, :-1]  # exclude quality\n",
    "y = (df[\"quality\"] > 6.5).astype(int)\n",
    "\n",
    "# Split dataset\n",
    "X_train, X_test, y_train, y_test = train_test_split(X, y, test_size=0.25, random_state=42)\n",
    "\n",
    "model = ExtraTreesClassifier(n_estimators=100, random_state=42)\n",
    "training_timer_start = time.time()\n",
    "model.fit(X_train, y_train)\n",
    "training_timer_stop = time.time()\n",
    "\n",
    "predict_timer_start = time.time()\n",
    "predictions = model.predict(X_test)\n",
    "predict_timer_start = time.time()\n",
    "\n",
    "accuracy = accuracy_score(y_test, predictions)\n",
    "print(f\"Accuracy: {accuracy:.2f}\")\n",
    "print(\"Classification Report:\\n\", classification_report(y_test, predictions))\n",
    "print(f'training time : { training_timer_stop - training_timer_start:.4f} seconds')"
   ]
  },
  {
   "cell_type": "code",
   "execution_count": 20,
   "id": "98d6bac9-89fb-45ef-bcb3-a7015da1d139",
   "metadata": {},
   "outputs": [
    {
     "name": "stdout",
     "output_type": "stream",
     "text": [
      "Cross-validation accuracy: 0.9008 ± 0.0159\n"
     ]
    }
   ],
   "source": [
    "model = ExtraTreesClassifier(n_estimators=100, random_state=42)\n",
    "scores = cross_val_score(model, X_train, y_train, cv=5, scoring=\"accuracy\")\n",
    "print(f\"Cross-validation accuracy: {scores.mean():.4f} ± {scores.std():.4f}\")"
   ]
  },
  {
   "cell_type": "code",
   "execution_count": 9,
   "id": "27667fa2-b6f7-4f50-9706-11e9730cd15f",
   "metadata": {},
   "outputs": [
    {
     "data": {
      "image/png": "[encoded data removed]",
      "text/plain": [
       "<Figure size 600x400 with 2 Axes>"
      ]
     },
     "metadata": {},
     "output_type": "display_data"
    }
   ],
   "source": [
    "cm = confusion_matrix(y_test,predictions)\n",
    "\n",
    "plt.figure(figsize=(6,4))\n",
    "sns.heatmap(cm, annot=True, fmt='d', cmap='Blues', xticklabels=['Negative', 'Positive'], yticklabels=['Negative', 'Positive'])\n",
    "plt.xlabel('Predicted')\n",
    "plt.ylabel('Actual')\n",
    "plt.title('Confusion Matrix')\n",
    "plt.show()"
   ]
  }
 ],
 "metadata": {
  "kernelspec": {
   "display_name": "Python 3 (ipykernel)",
   "language": "python",
   "name": "python3"
  },
  "language_info": {
   "codemirror_mode": {
    "name": "ipython",
    "version": 3
   },
   "file_extension": ".py",
   "mimetype": "text/x-python",
   "name": "python",
   "nbconvert_exporter": "python",
   "pygments_lexer": "ipython3",
   "version": "3.12.4"
  }
 },
 "nbformat": 4,
 "nbformat_minor": 5
}
